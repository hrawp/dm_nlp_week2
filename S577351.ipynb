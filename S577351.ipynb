{
 "cells": [
  {
   "cell_type": "markdown",
   "id": "503ff539",
   "metadata": {},
   "source": [
    "# Web Mining and Applied NLP (44-620)\n",
    "\n",
    "## Python Notebooks, Basics, and Data Structures\n",
    "\n",
    "### Student Name: Aaron Pelton\n",
    "\n",
    "Repo:\n",
    "https://github.com/hrawp/dm_nlp_week2\n",
    "\n",
    "## Question 10 for Week 2 Assignment. \n"
   ]
  },
  {
   "cell_type": "code",
   "execution_count": 1,
   "id": "d7bbab88",
   "metadata": {},
   "outputs": [
    {
     "name": "stdout",
     "output_type": "stream",
     "text": [
      "*      *\n",
      "**    **\n",
      "***  ***\n",
      "********\n"
     ]
    }
   ],
   "source": [
    "rows = 4\n",
    "\n",
    "for i in range(1, rows + 1):\n",
    "    stars = '*' * i\n",
    "    spaces = ' ' * ((rows - i) * 2)\n",
    "    print(stars + spaces + stars)"
   ]
  }
 ],
 "metadata": {
  "kernelspec": {
   "display_name": "Python 3",
   "language": "python",
   "name": "python3"
  },
  "language_info": {
   "codemirror_mode": {
    "name": "ipython",
    "version": 3
   },
   "file_extension": ".py",
   "mimetype": "text/x-python",
   "name": "python",
   "nbconvert_exporter": "python",
   "pygments_lexer": "ipython3",
   "version": "3.12.5"
  }
 },
 "nbformat": 4,
 "nbformat_minor": 5
}
